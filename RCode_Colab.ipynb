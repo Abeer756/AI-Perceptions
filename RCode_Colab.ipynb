{
  "nbformat": 4,
  "nbformat_minor": 0,
  "metadata": {
    "colab": {
      "provenance": []
    },
    "kernelspec": {
      "name": "python3",
      "display_name": "Python 3"
    },
    "language_info": {
      "name": "python"
    }
  },
  "cells": [
    {
      "cell_type": "code",
      "execution_count": 1,
      "metadata": {
        "id": "-sBop-wwI9jz"
      },
      "outputs": [],
      "source": [
        "%load_ext rpy2.ipython"
      ]
    },
    {
      "cell_type": "code",
      "source": [
        "%%R\n",
        "set.seed(123)\n",
        "install.packages(\"dplyr\")"
      ],
      "metadata": {
        "colab": {
          "base_uri": "https://localhost:8080/",
          "height": 191
        },
        "id": "eckc-IbpLfsi",
        "outputId": "7baa5249-5827-408f-ca6a-cbe5734b8f87"
      },
      "execution_count": 3,
      "outputs": [
        {
          "output_type": "display_data",
          "data": {
            "text/plain": [
              "Installing package into ‘/usr/local/lib/R/site-library’\n",
              "(as ‘lib’ is unspecified)\n",
              "trying URL 'https://cran.rstudio.com/src/contrib/dplyr_1.1.4.tar.gz'\n",
              "Content type 'application/x-gzip' length 1207521 bytes (1.2 MB)\n",
              "==================================================\n",
              "downloaded 1.2 MB\n",
              "\n",
              "\n",
              "The downloaded source packages are in\n",
              "\t‘/tmp/RtmpDBGNOb/downloaded_packages’\n"
            ]
          },
          "metadata": {}
        }
      ]
    },
    {
      "cell_type": "code",
      "source": [
        "%%R\n",
        "install.packages(\"dplyr\")\n",
        "install.packages(\"haven\")\n",
        "install.packages(\"psych\")\n",
        "install.packages(\"lavaan\")\n",
        "install.packages(\"semTools\")"
      ],
      "metadata": {
        "colab": {
          "base_uri": "https://localhost:8080/",
          "height": 902
        },
        "id": "EkOSlSqhMQqi",
        "outputId": "363e78ae-ad79-41fc-8731-0ee60167ed37"
      },
      "execution_count": 4,
      "outputs": [
        {
          "output_type": "display_data",
          "data": {
            "text/plain": [
              "Installing package into ‘/usr/local/lib/R/site-library’\n",
              "(as ‘lib’ is unspecified)\n",
              "trying URL 'https://cran.rstudio.com/src/contrib/dplyr_1.1.4.tar.gz'\n",
              "Content type 'application/x-gzip' length 1207521 bytes (1.2 MB)\n",
              "==================================================\n",
              "downloaded 1.2 MB\n",
              "\n",
              "\n",
              "The downloaded source packages are in\n",
              "\t‘/tmp/RtmpDBGNOb/downloaded_packages’\n",
              "Installing package into ‘/usr/local/lib/R/site-library’\n",
              "(as ‘lib’ is unspecified)\n",
              "trying URL 'https://cran.rstudio.com/src/contrib/haven_2.5.5.tar.gz'\n",
              "Content type 'application/x-gzip' length 316909 bytes (309 KB)\n",
              "==================================================\n",
              "downloaded 309 KB\n",
              "\n",
              "\n",
              "The downloaded source packages are in\n",
              "\t‘/tmp/RtmpDBGNOb/downloaded_packages’\n",
              "Installing package into ‘/usr/local/lib/R/site-library’\n",
              "(as ‘lib’ is unspecified)\n",
              "also installing the dependencies ‘mnormt’, ‘GPArotation’\n",
              "\n",
              "trying URL 'https://cran.rstudio.com/src/contrib/mnormt_2.1.1.tar.gz'\n",
              "trying URL 'https://cran.rstudio.com/src/contrib/GPArotation_2025.3-1.tar.gz'\n",
              "trying URL 'https://cran.rstudio.com/src/contrib/psych_2.5.6.tar.gz'\n",
              "\n",
              "The downloaded source packages are in\n",
              "\t‘/tmp/RtmpDBGNOb/downloaded_packages’\n",
              "Installing package into ‘/usr/local/lib/R/site-library’\n",
              "(as ‘lib’ is unspecified)\n",
              "also installing the dependencies ‘pbivnorm’, ‘numDeriv’, ‘quadprog’\n",
              "\n",
              "trying URL 'https://cran.rstudio.com/src/contrib/pbivnorm_0.6.0.tar.gz'\n",
              "trying URL 'https://cran.rstudio.com/src/contrib/numDeriv_2016.8-1.1.tar.gz'\n",
              "trying URL 'https://cran.rstudio.com/src/contrib/quadprog_1.5-8.tar.gz'\n",
              "trying URL 'https://cran.rstudio.com/src/contrib/lavaan_0.6-19.tar.gz'\n",
              "\n",
              "The downloaded source packages are in\n",
              "\t‘/tmp/RtmpDBGNOb/downloaded_packages’\n",
              "Installing package into ‘/usr/local/lib/R/site-library’\n",
              "(as ‘lib’ is unspecified)\n",
              "trying URL 'https://cran.rstudio.com/src/contrib/semTools_0.5-7.tar.gz'\n",
              "Content type 'application/x-gzip' length 1497687 bytes (1.4 MB)\n",
              "==================================================\n",
              "downloaded 1.4 MB\n",
              "\n",
              "\n",
              "The downloaded source packages are in\n",
              "\t‘/tmp/RtmpDBGNOb/downloaded_packages’\n"
            ]
          },
          "metadata": {}
        }
      ]
    },
    {
      "cell_type": "code",
      "source": [
        "%%R\n",
        "library(dplyr)\n",
        "library(haven)\n",
        "library(psych)\n",
        "library(lavaan)\n",
        "library(semTools)"
      ],
      "metadata": {
        "colab": {
          "base_uri": "https://localhost:8080/",
          "height": 572
        },
        "id": "L3tD66mfMXRh",
        "outputId": "baf249bf-8c96-4984-a457-d123cc65f99a"
      },
      "execution_count": 5,
      "outputs": [
        {
          "output_type": "display_data",
          "data": {
            "text/plain": [
              "\n",
              "Attaching package: ‘psych’\n",
              "\n",
              "The following objects are masked from ‘package:ggplot2’:\n",
              "\n",
              "    %+%, alpha\n",
              "\n",
              "This is lavaan 0.6-19\n",
              "lavaan is FREE software! Please report any bugs.\n",
              "\n",
              "Attaching package: ‘lavaan’\n",
              "\n",
              "The following object is masked from ‘package:psych’:\n",
              "\n",
              "    cor2cov\n",
              "\n",
              " \n",
              "###############################################################################\n",
              "This is semTools 0.5-7\n",
              "All users of R (or SEM) are invited to submit functions or ideas for functions.\n",
              "###############################################################################\n",
              "\n",
              "Attaching package: ‘semTools’\n",
              "\n",
              "The following objects are masked from ‘package:psych’:\n",
              "\n",
              "    reliability, skew\n",
              "\n",
              "The following object is masked from ‘package:readr’:\n",
              "\n",
              "    clipboard\n",
              "\n"
            ]
          },
          "metadata": {}
        }
      ]
    },
    {
      "cell_type": "code",
      "source": [
        "%%R\n",
        "df <- read_sav(\"aiData.sav\")"
      ],
      "metadata": {
        "id": "lz3DFjirMdY6"
      },
      "execution_count": 6,
      "outputs": []
    },
    {
      "cell_type": "code",
      "source": [
        "%%R\n",
        "likert_vars <- c(paste0(\"A\",1:5),\n",
        "                 paste0(\"F\",1:8),\n",
        "                 paste0(\"TP\",1:8),\n",
        "                 paste0(\"TR\",1:3),\n",
        "                 paste0(\"U\",1:6),\n",
        "                 paste0(\"Q\",1:5),\n",
        "                 paste0(\"P\",1:4),\n",
        "                 paste0(\"AN\",1:4))\n",
        "stopifnot(all(likert_vars %in% names(df)))\n",
        "df[likert_vars] <- lapply(df[likert_vars], function(x) as.numeric(x))"
      ],
      "metadata": {
        "id": "LEZITazuMicg"
      },
      "execution_count": 7,
      "outputs": []
    },
    {
      "cell_type": "code",
      "source": [
        "%%R\n",
        "rev5 <- function(x) ifelse(is.na(x), NA, 6 - x)\n",
        "df <- df |>\n",
        "  mutate(\n",
        "    A4_R  = rev5(A4),      # not used in final PACH\n",
        "    F5_R  = rev5(F5),      # dropped from FAIR\n",
        "    F6_R  = rev5(F6),      # dropped from FAIR\n",
        "    AN1_R = rev5(AN1),\n",
        "    AN2_R = rev5(AN2),\n",
        "    AN3_R = rev5(AN3),\n",
        "    AN4_R = rev5(AN4)\n",
        "  )"
      ],
      "metadata": {
        "id": "PwOUBPgEMpG_"
      },
      "execution_count": 8,
      "outputs": []
    },
    {
      "cell_type": "code",
      "source": [
        "%%R\n",
        "# Blocks used for checks and HTMT\n",
        "blocks <- list(\n",
        "  PACH    = c(\"A1\",\"A2\",\"A3\",\"A5\"),\n",
        "  FAIR    = c(\"F1\",\"F2\",\"F3\",\"F4\",\"F8\"),\n",
        "  TRANSP  = paste0(\"TP\",1:8),\n",
        "  TRUST   = paste0(\"TR\",1:3),\n",
        "  PU      = paste0(\"U\",1:6),\n",
        "  WE_QUAL = paste0(\"Q\",1:5),\n",
        "  WE_UTIL = paste0(\"P\",1:4),\n",
        "  WE_ANX  = c(\"AN1_R\",\"AN2_R\",\"AN3_R\",\"AN4_R\")\n",
        ")\n",
        "ordered_vars <- unique(unlist(blocks))"
      ],
      "metadata": {
        "id": "sMsCDsmyMs-h"
      },
      "execution_count": 9,
      "outputs": []
    },
    {
      "cell_type": "markdown",
      "source": [
        " --- 2) Measurement Models (CFA) -----------------------------------------"
      ],
      "metadata": {
        "id": "vkG_REneM3Vh"
      }
    },
    {
      "cell_type": "code",
      "source": [
        "%%R\n",
        "meas_model_base <- '\n",
        "# First-order\n",
        "PACH   =~ A1 + A2 + A3 + A5\n",
        "FAIR   =~ F1 + F2 + F3 + F4 + F8\n",
        "TRANSP =~ TP1 + TP2 + TP3 + TP4 + TP5 + TP6 + TP7 + TP8\n",
        "TRUST  =~ TR1 + TR2 + TR3\n",
        "PU     =~ U1 + U2 + U3 + U4 + U5 + U6\n",
        "WE_QUAL =~ Q1 + Q2 + Q3 + Q4 + Q5\n",
        "WE_UTIL =~ P1 + P2 + P3 + P4\n",
        "WE_ANX  =~ AN1_R + AN2_R + AN3_R + AN4_R\n",
        "\n",
        "# Second-order\n",
        "WE =~ WE_QUAL + WE_UTIL\n",
        "PE =~ FAIR + TRANSP + TRUST\n",
        "'"
      ],
      "metadata": {
        "id": "Xuc9j-YoMwd5"
      },
      "execution_count": 10,
      "outputs": []
    },
    {
      "cell_type": "markdown",
      "source": [
        "Base CFA with MLR (robust)"
      ],
      "metadata": {
        "id": "nXlwLAGSNDRg"
      }
    },
    {
      "cell_type": "code",
      "source": [
        "%%R\n",
        "fit_cfa0 <- cfa(meas_model_base, data = df, estimator = \"MLR\")\n",
        "cat(\"\\nBASE CFA fit (MLR):\\n\")\n",
        "print(fitMeasures(fit_cfa0, c(\"cfi\",\"tli\",\"rmsea\",\"srmr\")))"
      ],
      "metadata": {
        "colab": {
          "base_uri": "https://localhost:8080/"
        },
        "id": "5GF2ogOvM9zH",
        "outputId": "09e17466-9b68-4dc3-f253-dd1bfaa9130a"
      },
      "execution_count": 11,
      "outputs": [
        {
          "output_type": "stream",
          "name": "stdout",
          "text": [
            "\n",
            "BASE CFA fit (MLR):\n",
            "  cfi   tli rmsea  srmr \n",
            "0.887 0.878 0.063 0.056 \n"
          ]
        }
      ]
    },
    {
      "cell_type": "markdown",
      "source": [
        "# Auto-pick up to 3 within-factor residual covariances (MI >= 15)"
      ],
      "metadata": {
        "id": "tAad1LYMNJmn"
      }
    },
    {
      "cell_type": "code",
      "source": [
        "%%R\n",
        "mi_tbl <- modindices(fit_cfa0) |>\n",
        "  as_tibble() |>\n",
        "  filter(op == \"~~\", lhs != rhs) |>\n",
        "  rowwise() |>\n",
        "  mutate(factor = {\n",
        "    f <- NA_character_\n",
        "    for (nm in names(blocks)) {\n",
        "      v <- blocks[[nm]]\n",
        "      if (lhs %in% v && rhs %in% v) { f <- nm; break }\n",
        "    }\n",
        "    f\n",
        "  }) |>\n",
        "  ungroup() |>\n",
        "  filter(!is.na(factor)) |>\n",
        "  arrange(desc(mi))\n",
        "\n",
        "mi_pick <- mi_tbl |>\n",
        "  filter(mi >= 15) |>\n",
        "  group_by(factor) |>\n",
        "  slice_head(n = 1) |>\n",
        "  ungroup() |>\n",
        "  slice_head(n = 3) |>\n",
        "  select(lhs, rhs, mi, epc, factor)\n",
        "\n",
        "cat(\"\\nCandidate residual pairs (max 3):\\n\"); print(mi_pick)"
      ],
      "metadata": {
        "colab": {
          "base_uri": "https://localhost:8080/"
        },
        "id": "mWMo37saNG1q",
        "outputId": "70d48074-7b7e-4eff-a154-ec4be99d0979"
      },
      "execution_count": 12,
      "outputs": [
        {
          "output_type": "stream",
          "name": "stdout",
          "text": [
            "\n",
            "Candidate residual pairs (max 3):\n",
            "# A tibble: 3 × 5\n",
            "  lhs   rhs      mi   epc factor\n",
            "  <chr> <chr> <dbl> <dbl> <chr> \n",
            "1 F1    F2    134.  0.570 FAIR  \n",
            "2 A1    A2     34.0 0.200 PACH  \n",
            "3 TP1   TP2    86.9 0.251 TRANSP\n"
          ]
        }
      ]
    },
    {
      "cell_type": "code",
      "source": [
        "%%R\n",
        "add_lines <- if (nrow(mi_pick) > 0) {\n",
        "  paste0(mi_pick$lhs, \" ~~ \", mi_pick$rhs, collapse = \"\\n\")\n",
        "} else { \"\" }\n",
        "\n",
        "meas_model_final <- if (nchar(add_lines) > 0) {\n",
        "  paste(meas_model_base, \"\\n# Added residual covariances (within-factor)\\n\", add_lines)\n",
        "} else {\n",
        "  meas_model_base\n",
        "}\n",
        "\n",
        "cat(\"\\nAdded residual covariances:\\n\", add_lines, \"\\n\")"
      ],
      "metadata": {
        "colab": {
          "base_uri": "https://localhost:8080/"
        },
        "id": "o1F6d77GNUMf",
        "outputId": "5431297b-503d-470c-b962-cabc731e7b9f"
      },
      "execution_count": 13,
      "outputs": [
        {
          "output_type": "stream",
          "name": "stdout",
          "text": [
            "\n",
            "Added residual covariances:\n",
            " F1 ~~ F2\n",
            "A1 ~~ A2\n",
            "TP1 ~~ TP2 \n"
          ]
        }
      ]
    },
    {
      "cell_type": "markdown",
      "source": [
        "# FINAL CFA"
      ],
      "metadata": {
        "id": "hnuyxAYXNY-6"
      }
    },
    {
      "cell_type": "code",
      "source": [
        "%%R\n",
        "fit_cfa <- cfa(meas_model_final, data = df, estimator = \"MLR\")\n",
        "cat(\"\\nFINAL CFA fit (MLR):\\n\")\n",
        "print(fitMeasures(fit_cfa, c(\"cfi\",\"tli\",\"rmsea\",\"srmr\")))"
      ],
      "metadata": {
        "colab": {
          "base_uri": "https://localhost:8080/"
        },
        "id": "gpPwUX20NXRB",
        "outputId": "b4e8f6dd-1f25-4913-a866-efeb37b60da2"
      },
      "execution_count": 14,
      "outputs": [
        {
          "output_type": "stream",
          "name": "stdout",
          "text": [
            "\n",
            "FINAL CFA fit (MLR):\n",
            "  cfi   tli rmsea  srmr \n",
            "0.919 0.912 0.054 0.054 \n"
          ]
        }
      ]
    },
    {
      "cell_type": "code",
      "source": [
        "%%R\n",
        "summary(fit_cfa, fit.measures = TRUE, standardized = TRUE)"
      ],
      "metadata": {
        "colab": {
          "base_uri": "https://localhost:8080/"
        },
        "id": "wVy8yg9oNhVQ",
        "outputId": "6c712baa-3ac6-4c4c-cae2-de2c36b2f679"
      },
      "execution_count": 15,
      "outputs": [
        {
          "output_type": "stream",
          "name": "stdout",
          "text": [
            "lavaan 0.6-19 ended normally after 75 iterations\n",
            "\n",
            "  Estimator                                         ML\n",
            "  Optimization method                           NLMINB\n",
            "  Number of model parameters                        96\n",
            "\n",
            "  Number of observations                           341\n",
            "\n",
            "Model Test User Model:\n",
            "                                              Standard      Scaled\n",
            "  Test Statistic                              1357.411    1029.723\n",
            "  Degrees of freedom                               684         684\n",
            "  P-value (Chi-square)                           0.000       0.000\n",
            "  Scaling correction factor                                  1.318\n",
            "    Yuan-Bentler correction (Mplus variant)                       \n",
            "\n",
            "Model Test Baseline Model:\n",
            "\n",
            "  Test statistic                              9039.960    6657.874\n",
            "  Degrees of freedom                               741         741\n",
            "  P-value                                        0.000       0.000\n",
            "  Scaling correction factor                                  1.358\n",
            "\n",
            "User Model versus Baseline Model:\n",
            "\n",
            "  Comparative Fit Index (CFI)                    0.919       0.942\n",
            "  Tucker-Lewis Index (TLI)                       0.912       0.937\n",
            "                                                                  \n",
            "  Robust Comparative Fit Index (CFI)                         0.943\n",
            "  Robust Tucker-Lewis Index (TLI)                            0.939\n",
            "\n",
            "Loglikelihood and Information Criteria:\n",
            "\n",
            "  Loglikelihood user model (H0)             -14942.364  -14942.364\n",
            "  Scaling correction factor                                  1.414\n",
            "      for the MLR correction                                      \n",
            "  Loglikelihood unrestricted model (H1)     -14263.658  -14263.658\n",
            "  Scaling correction factor                                  1.330\n",
            "      for the MLR correction                                      \n",
            "                                                                  \n",
            "  Akaike (AIC)                               30076.728   30076.728\n",
            "  Bayesian (BIC)                             30444.589   30444.589\n",
            "  Sample-size adjusted Bayesian (SABIC)      30140.057   30140.057\n",
            "\n",
            "Root Mean Square Error of Approximation:\n",
            "\n",
            "  RMSEA                                          0.054       0.038\n",
            "  90 Percent confidence interval - lower         0.050       0.034\n",
            "  90 Percent confidence interval - upper         0.058       0.043\n",
            "  P-value H_0: RMSEA <= 0.050                    0.071       1.000\n",
            "  P-value H_0: RMSEA >= 0.080                    0.000       0.000\n",
            "                                                                  \n",
            "  Robust RMSEA                                               0.044\n",
            "  90 Percent confidence interval - lower                     0.039\n",
            "  90 Percent confidence interval - upper                     0.050\n",
            "  P-value H_0: Robust RMSEA <= 0.050                         0.961\n",
            "  P-value H_0: Robust RMSEA >= 0.080                         0.000\n",
            "\n",
            "Standardized Root Mean Square Residual:\n",
            "\n",
            "  SRMR                                           0.054       0.054\n",
            "\n",
            "Parameter Estimates:\n",
            "\n",
            "  Standard errors                             Sandwich\n",
            "  Information bread                           Observed\n",
            "  Observed information based on                Hessian\n",
            "\n",
            "Latent Variables:\n",
            "                   Estimate  Std.Err  z-value  P(>|z|)   Std.lv  Std.all\n",
            "  PACH =~                                                               \n",
            "    A1                1.000                               0.851    0.758\n",
            "    A2                1.013    0.049   20.841    0.000    0.862    0.789\n",
            "    A3                1.083    0.076   14.238    0.000    0.922    0.799\n",
            "    A5                1.087    0.073   14.911    0.000    0.925    0.817\n",
            "  FAIR =~                                                               \n",
            "    F1                1.000                               0.492    0.449\n",
            "    F2                0.975    0.092   10.581    0.000    0.480    0.455\n",
            "    F3                1.379    0.215    6.400    0.000    0.679    0.703\n",
            "    F4                1.484    0.223    6.652    0.000    0.730    0.730\n",
            "    F8                1.299    0.192    6.752    0.000    0.639    0.639\n",
            "  TRANSP =~                                                             \n",
            "    TP1               1.000                               0.677    0.699\n",
            "    TP2               0.940    0.057   16.370    0.000    0.637    0.665\n",
            "    TP3               0.968    0.069   14.014    0.000    0.656    0.705\n",
            "    TP4               1.024    0.077   13.348    0.000    0.694    0.784\n",
            "    TP5               1.081    0.086   12.587    0.000    0.732    0.797\n",
            "    TP6               1.042    0.091   11.511    0.000    0.706    0.783\n",
            "    TP7               1.062    0.092   11.493    0.000    0.719    0.726\n",
            "    TP8               1.015    0.094   10.820    0.000    0.687    0.704\n",
            "  TRUST =~                                                              \n",
            "    TR1               1.000                               0.898    0.872\n",
            "    TR2               0.973    0.035   27.645    0.000    0.874    0.860\n",
            "    TR3               1.019    0.038   27.164    0.000    0.915    0.893\n",
            "  PU =~                                                                 \n",
            "    U1                1.000                               0.726    0.722\n",
            "    U2                0.995    0.073   13.588    0.000    0.723    0.728\n",
            "    U3                1.032    0.057   18.126    0.000    0.749    0.773\n",
            "    U4                1.001    0.064   15.701    0.000    0.727    0.807\n",
            "    U5                0.920    0.064   14.271    0.000    0.669    0.755\n",
            "    U6                1.118    0.072   15.505    0.000    0.812    0.816\n",
            "  WE_QUAL =~                                                            \n",
            "    Q1                1.000                               0.660    0.686\n",
            "    Q2                1.076    0.071   15.155    0.000    0.710    0.776\n",
            "    Q3                1.031    0.080   12.889    0.000    0.680    0.760\n",
            "    Q4                1.101    0.083   13.249    0.000    0.726    0.740\n",
            "    Q5                1.051    0.074   14.129    0.000    0.693    0.714\n",
            "  WE_UTIL =~                                                            \n",
            "    P1                1.000                               0.789    0.788\n",
            "    P2                1.037    0.044   23.350    0.000    0.818    0.842\n",
            "    P3                1.003    0.059   16.900    0.000    0.791    0.822\n",
            "    P4                0.986    0.061   16.266    0.000    0.778    0.781\n",
            "  WE_ANX =~                                                             \n",
            "    AN1_R             1.000                               0.575    0.560\n",
            "    AN2_R             1.311    0.138    9.520    0.000    0.754    0.732\n",
            "    AN3_R             1.582    0.204    7.750    0.000    0.910    0.867\n",
            "    AN4_R             1.543    0.190    8.108    0.000    0.888    0.803\n",
            "  WE =~                                                                 \n",
            "    WE_QUAL           1.000                               0.924    0.924\n",
            "    WE_UTIL           1.092    0.115    9.523    0.000    0.844    0.844\n",
            "  PE =~                                                                 \n",
            "    FAIR              1.000                               0.815    0.815\n",
            "    TRANSP            1.237    0.203    6.103    0.000    0.732    0.732\n",
            "    TRUST             1.919    0.315    6.093    0.000    0.857    0.857\n",
            "\n",
            "Covariances:\n",
            "                   Estimate  Std.Err  z-value  P(>|z|)   Std.lv  Std.all\n",
            " .F1 ~~                                                                 \n",
            "   .F2                0.564    0.067    8.362    0.000    0.564    0.614\n",
            " .A1 ~~                                                                 \n",
            "   .A2                0.195    0.048    4.023    0.000    0.195    0.396\n",
            " .TP1 ~~                                                                \n",
            "   .TP2               0.253    0.054    4.687    0.000    0.253    0.510\n",
            "  PACH ~~                                                               \n",
            "    PU                0.416    0.049    8.575    0.000    0.673    0.673\n",
            "    WE_ANX            0.007    0.034    0.210    0.833    0.014    0.014\n",
            "    WE                0.328    0.046    7.190    0.000    0.633    0.633\n",
            "    PE                0.289    0.052    5.525    0.000    0.847    0.847\n",
            "  PU ~~                                                                 \n",
            "    WE_ANX            0.018    0.030    0.595    0.552    0.042    0.042\n",
            "    WE                0.341    0.047    7.288    0.000    0.770    0.770\n",
            "    PE                0.271    0.052    5.232    0.000    0.930    0.930\n",
            "  WE_ANX ~~                                                             \n",
            "    WE               -0.033    0.032   -1.033    0.301   -0.094   -0.094\n",
            "    PE               -0.004    0.018   -0.232    0.817   -0.018   -0.018\n",
            "  WE ~~                                                                 \n",
            "    PE                0.209    0.043    4.815    0.000    0.855    0.855\n",
            "\n",
            "Variances:\n",
            "                   Estimate  Std.Err  z-value  P(>|z|)   Std.lv  Std.all\n",
            "   .A1                0.536    0.063    8.546    0.000    0.536    0.425\n",
            "   .A2                0.451    0.056    8.046    0.000    0.451    0.378\n",
            "   .A3                0.481    0.057    8.483    0.000    0.481    0.362\n",
            "   .A5                0.426    0.061    6.940    0.000    0.426    0.332\n",
            "   .F1                0.961    0.074   13.019    0.000    0.961    0.799\n",
            "   .F2                0.880    0.075   11.790    0.000    0.880    0.793\n",
            "   .F3                0.472    0.057    8.222    0.000    0.472    0.506\n",
            "   .F4                0.466    0.074    6.272    0.000    0.466    0.466\n",
            "   .F8                0.592    0.069    8.551    0.000    0.592    0.592\n",
            "   .TP1               0.481    0.059    8.091    0.000    0.481    0.512\n",
            "   .TP2               0.511    0.064    7.971    0.000    0.511    0.557\n",
            "   .TP3               0.435    0.057    7.638    0.000    0.435    0.503\n",
            "   .TP4               0.301    0.040    7.567    0.000    0.301    0.385\n",
            "   .TP5               0.308    0.048    6.460    0.000    0.308    0.365\n",
            "   .TP6               0.314    0.044    7.165    0.000    0.314    0.387\n",
            "   .TP7               0.465    0.054    8.575    0.000    0.465    0.474\n",
            "   .TP8               0.481    0.052    9.273    0.000    0.481    0.505\n",
            "   .TR1               0.253    0.035    7.257    0.000    0.253    0.239\n",
            "   .TR2               0.269    0.041    6.564    0.000    0.269    0.260\n",
            "   .TR3               0.213    0.039    5.476    0.000    0.213    0.202\n",
            "   .U1                0.486    0.053    9.155    0.000    0.486    0.479\n",
            "   .U2                0.463    0.053    8.714    0.000    0.463    0.470\n",
            "   .U3                0.379    0.048    7.965    0.000    0.379    0.403\n",
            "   .U4                0.284    0.035    8.128    0.000    0.284    0.349\n",
            "   .U5                0.337    0.048    6.992    0.000    0.337    0.430\n",
            "   .U6                0.331    0.042    7.946    0.000    0.331    0.334\n",
            "   .Q1                0.488    0.050    9.741    0.000    0.488    0.529\n",
            "   .Q2                0.333    0.036    9.279    0.000    0.333    0.398\n",
            "   .Q3                0.338    0.048    7.064    0.000    0.338    0.422\n",
            "   .Q4                0.435    0.053    8.169    0.000    0.435    0.452\n",
            "   .Q5                0.462    0.054    8.544    0.000    0.462    0.490\n",
            "   .P1                0.380    0.055    6.854    0.000    0.380    0.379\n",
            "   .P2                0.275    0.045    6.091    0.000    0.275    0.291\n",
            "   .P3                0.301    0.045    6.715    0.000    0.301    0.325\n",
            "   .P4                0.387    0.054    7.119    0.000    0.387    0.390\n",
            "   .AN1_R             0.725    0.076    9.503    0.000    0.725    0.687\n",
            "   .AN2_R             0.493    0.084    5.867    0.000    0.493    0.465\n",
            "   .AN3_R             0.273    0.064    4.232    0.000    0.273    0.248\n",
            "   .AN4_R             0.434    0.058    7.504    0.000    0.434    0.355\n",
            "    PACH              0.725    0.084    8.635    0.000    1.000    1.000\n",
            "   .FAIR              0.081    0.026    3.168    0.002    0.336    0.336\n",
            "   .TRANSP            0.213    0.034    6.248    0.000    0.464    0.464\n",
            "   .TRUST             0.215    0.039    5.479    0.000    0.266    0.266\n",
            "    PU                0.528    0.071    7.420    0.000    1.000    1.000\n",
            "   .WE_QUAL           0.064    0.029    2.198    0.028    0.146    0.146\n",
            "   .WE_UTIL           0.179    0.037    4.914    0.000    0.288    0.288\n",
            "    WE_ANX            0.331    0.074    4.445    0.000    1.000    1.000\n",
            "    WE                0.371    0.067    5.568    0.000    1.000    1.000\n",
            "    PE                0.161    0.052    3.108    0.002    1.000    1.000\n",
            "\n"
          ]
        }
      ]
    },
    {
      "cell_type": "markdown",
      "source": [
        "# Reliability & AVE (from CFA)\n"
      ],
      "metadata": {
        "id": "TJnia1LsNkC8"
      }
    },
    {
      "cell_type": "code",
      "source": [
        "%%R\n",
        "cr <- compRelSEM(fit_cfa)\n",
        "ave_vals <- AVE(fit_cfa)\n",
        "cat(\"\\nComposite Reliability:\\n\"); print(cr)"
      ],
      "metadata": {
        "colab": {
          "base_uri": "https://localhost:8080/"
        },
        "id": "TwAb_FeRNriv",
        "outputId": "ed7d672b-f7d7-4e6c-875e-da81a4ced97a"
      },
      "execution_count": 16,
      "outputs": [
        {
          "output_type": "stream",
          "name": "stdout",
          "text": [
            "\n",
            "Composite Reliability:\n",
            "   PACH    FAIR  TRANSP   TRUST      PU WE_QUAL WE_UTIL  WE_ANX \n",
            "  0.849   0.682   0.891   0.908   0.896   0.857   0.885   0.831 \n"
          ]
        }
      ]
    },
    {
      "cell_type": "code",
      "source": [
        "%%R\n",
        "cat(\"\\nAVE:\\n\"); print(ave_vals)"
      ],
      "metadata": {
        "colab": {
          "base_uri": "https://localhost:8080/"
        },
        "id": "nb9apUSLNqeQ",
        "outputId": "f767d3ed-aeea-4950-94b7-514c409e71a5"
      },
      "execution_count": 17,
      "outputs": [
        {
          "output_type": "stream",
          "name": "stdout",
          "text": [
            "\n",
            "AVE:\n",
            "   PACH    FAIR  TRANSP   TRUST      PU WE_QUAL WE_UTIL  WE_ANX \n",
            "  0.626   0.357   0.535   0.766   0.588   0.539   0.653   0.566 \n"
          ]
        }
      ]
    },
    {
      "cell_type": "markdown",
      "source": [
        "# --- 3) Discriminant validity (HTMT, polychoric) -------------------------\n",
        "# IMPORTANT: Do HTMT on a *copy* with ordered factors — keep df numeric for SEM"
      ],
      "metadata": {
        "id": "zsl2ay09N2Ld"
      }
    },
    {
      "cell_type": "code",
      "source": [
        "%%R\n",
        "df_htmt <- df\n",
        "df_htmt[ordered_vars] <- lapply(df_htmt[ordered_vars], function(x) {\n",
        "  if (is.ordered(x) || is.factor(x)) return(as.ordered(x))\n",
        "  ordered(as.numeric(x), levels = sort(unique(na.omit(as.numeric(x)))))\n",
        "})"
      ],
      "metadata": {
        "id": "SVss236YN6h_"
      },
      "execution_count": 18,
      "outputs": []
    },
    {
      "cell_type": "code",
      "source": [
        "%%R\n",
        "meas_model_firstorder <- '\n",
        "PACH   =~ A1 + A2 + A3 + A5\n",
        "FAIR   =~ F1 + F2 + F3 + F4 + F8\n",
        "TRANSP =~ TP1 + TP2 + TP3 + TP4 + TP5 + TP6 + TP7 + TP8\n",
        "TRUST  =~ TR1 + TR2 + TR3\n",
        "PU     =~ U1 + U2 + U3 + U4 + U5 + U6\n",
        "WE_QUAL =~ Q1 + Q2 + Q3 + Q4 + Q5\n",
        "WE_UTIL =~ P1 + P2 + P3 + P4\n",
        "WE_ANX  =~ AN1_R + AN2_R + AN3_R + AN4_R\n",
        "'"
      ],
      "metadata": {
        "id": "sYvlN3CJN-uX"
      },
      "execution_count": 19,
      "outputs": []
    },
    {
      "cell_type": "code",
      "source": [
        "%%R\n",
        "htmt_poly <- semTools::htmt(\n",
        "  model   = meas_model_firstorder,\n",
        "  data    = df_htmt,\n",
        "  missing = \"listwise\",\n",
        "  ordered = ordered_vars,\n",
        "  absolute = TRUE,\n",
        "  htmt2   = TRUE\n",
        ")\n",
        "cat(\"\\nHTMT (polychoric, HTMT2):\\n\"); print(round(htmt_poly, 3))"
      ],
      "metadata": {
        "colab": {
          "base_uri": "https://localhost:8080/"
        },
        "id": "HaptIO82OAo3",
        "outputId": "d9976e0f-5a47-4ae9-add3-8fae5f1c5da1"
      },
      "execution_count": 20,
      "outputs": [
        {
          "output_type": "stream",
          "name": "stdout",
          "text": [
            "\n",
            "HTMT (polychoric, HTMT2):\n",
            "         PACH  FAIR TRANSP TRUST    PU WE_QUA WE_UTI WE_ANX\n",
            "PACH    1.000                                              \n",
            "FAIR    0.632 1.000                                        \n",
            "TRANSP  0.540 0.708  1.000                                 \n",
            "TRUST   0.786 0.700  0.594 1.000                           \n",
            "PU      0.676 0.816  0.734 0.779 1.000                     \n",
            "WE_QUAL 0.568 0.643  0.675 0.633 0.695  1.000              \n",
            "WE_UTIL 0.528 0.570  0.584 0.598 0.691  0.797  1.000       \n",
            "WE_ANX  0.032 0.086  0.056 0.040 0.082  0.117  0.052  1.000\n"
          ]
        }
      ]
    },
    {
      "cell_type": "markdown",
      "source": [
        "# --- 5) Moderation: PACH x WE -> PE (product indicators) -----------------\n",
        "# Build ALL product indicators (4 PACH items x 9 WE items = 36) on a copy"
      ],
      "metadata": {
        "id": "tD9Q6qcqOFDH"
      }
    },
    {
      "cell_type": "code",
      "source": [
        "%%R\n",
        "c0 <- function(v) v - mean(v, na.rm = TRUE)\n",
        "pach_items <- blocks$PACH\n",
        "we_items   <- c(blocks$WE_QUAL, blocks$WE_UTIL)\n",
        "\n",
        "stopifnot(all(pach_items %in% names(df)), all(we_items %in% names(df)))\n",
        "df_int <- df\n",
        "prod_names_full <- character(0)\n",
        "for (x in pach_items) {\n",
        "  x_c <- c0(df_int[[x]])\n",
        "  for (w in we_items) {\n",
        "    w_c <- c0(df_int[[w]])\n",
        "    nm <- paste0(\"pachWE_\", x, \"_\", w)\n",
        "    df_int[[nm]] <- c0(x_c * w_c)\n",
        "    prod_names_full <- c(prod_names_full, nm)\n",
        "  }\n",
        "}"
      ],
      "metadata": {
        "id": "RH3WLSwDOGKW"
      },
      "execution_count": 21,
      "outputs": []
    },
    {
      "cell_type": "markdown",
      "source": [
        "# --- 6) Harman one-factor CMV screen ------------------------------------\n"
      ],
      "metadata": {
        "id": "6p-g-zU_OnId"
      }
    },
    {
      "cell_type": "code",
      "source": [
        "%%R\n",
        "efa1 <- psych::fa(df[likert_vars], nfactors = 1, fm = \"ml\", rotate = \"none\")\n",
        "cat(\"\\nHarman one-factor % variance:\\n\")\n",
        "print(efa1$Vaccounted[\"Proportion Var\",1])"
      ],
      "metadata": {
        "colab": {
          "base_uri": "https://localhost:8080/"
        },
        "id": "fuTRPKqROpO4",
        "outputId": "b93fb572-bca9-4cd7-db23-8dc31548bb03"
      },
      "execution_count": 22,
      "outputs": [
        {
          "output_type": "stream",
          "name": "stdout",
          "text": [
            "\n",
            "Harman one-factor % variance:\n",
            "[1] 0.3303398\n"
          ]
        }
      ]
    },
    {
      "cell_type": "markdown",
      "source": [
        "# --- 7) Controls: Gender & Job-search dummies ----------------------------\n",
        "# Gender: 1=male, 2=female -> female=1, male=0"
      ],
      "metadata": {
        "id": "v0_1JnVQOuK-"
      }
    },
    {
      "cell_type": "code",
      "source": [
        "%%R\n",
        "if (!\"gender\" %in% names(df)) stop(\"Missing 'gender' in the dataset.\")\n",
        "df$gender_female <- ifelse(df$gender == 2, 1,\n",
        "                           ifelse(df$gender == 1, 0, NA))\n",
        "\n",
        "# Emp grouping: 1–3 = not searching (0), 4–6 = searching (1)\n",
        "if (!\"Emp\" %in% names(df)) stop(\"Missing 'Emp' in the dataset.\")\n",
        "df$job_search <- ifelse(df$Emp %in% 1:3, 0,\n",
        "                        ifelse(df$Emp %in% 4:6, 1, NA))"
      ],
      "metadata": {
        "id": "LGXQiIjIOysu"
      },
      "execution_count": 23,
      "outputs": []
    },
    {
      "cell_type": "code",
      "source": [
        "%%R\n",
        "cat(\"\\nGender distribution  (Female/Male): \",\n",
        "    sum(df$gender_female==1, na.rm=TRUE), \"/\",\n",
        "    sum(df$gender_female==0, na.rm=TRUE), \"\\n\", sep = \"\")"
      ],
      "metadata": {
        "colab": {
          "base_uri": "https://localhost:8080/"
        },
        "id": "bc4-2W2GO3D-",
        "outputId": "7b113093-e36d-4673-9bd1-eaadef702056"
      },
      "execution_count": 24,
      "outputs": [
        {
          "output_type": "stream",
          "name": "stdout",
          "text": [
            "\n",
            "Gender distribution  (Female/Male): 199/142\n"
          ]
        }
      ]
    },
    {
      "cell_type": "code",
      "source": [
        "%%R\n",
        "cat(\"Job search (Not searching/Searching): \",\n",
        "    sum(df$job_search==0, na.rm=TRUE), \"/\",\n",
        "    sum(df$job_search==1, na.rm=TRUE), \"\\n\", sep = \"\")"
      ],
      "metadata": {
        "colab": {
          "base_uri": "https://localhost:8080/"
        },
        "id": "l44lD04jO6fm",
        "outputId": "3f629104-f4a4-4e97-b927-19385170f535"
      },
      "execution_count": 25,
      "outputs": [
        {
          "output_type": "stream",
          "name": "stdout",
          "text": [
            "Job search (Not searching/Searching): 165/176\n"
          ]
        }
      ]
    },
    {
      "cell_type": "markdown",
      "source": [
        "# --- 7a) Mediation with gender control -----------------------------------\n"
      ],
      "metadata": {
        "id": "HcOgmF4oO9Yd"
      }
    },
    {
      "cell_type": "code",
      "source": [
        "%%R\n",
        "set.seed(123)\n",
        "sem_model_med_control <- paste0(meas_model_final, '\n",
        "\n",
        "PU  ~ a1*PACH + g1*gender_female\n",
        "PE  ~ c1*PACH + b1*PU + g2*gender_female\n",
        "\n",
        "ind_PU := a1*b1\n",
        "tot    := c1 + (a1*b1)\n",
        "')\n",
        "\n",
        "fit_med_control <- sem(sem_model_med_control, data = df,\n",
        "                       estimator = \"ML\", se = \"bootstrap\", bootstrap = 5000)\n"
      ],
      "metadata": {
        "colab": {
          "base_uri": "https://localhost:8080/",
          "height": 69
        },
        "id": "KL05kTCAO_Lt",
        "outputId": "8ea23a69-8fee-448b-cdf2-e1943b101ad1"
      },
      "execution_count": 26,
      "outputs": [
        {
          "output_type": "display_data",
          "data": {
            "text/plain": [
              "In addition: Warning message:\n",
              "lavaan->lav_model_nvcov_bootstrap():  \n",
              "   1634 bootstrap runs resulted in nonadmissible solutions. \n"
            ]
          },
          "metadata": {}
        }
      ]
    },
    {
      "cell_type": "code",
      "source": [
        "%%R\n",
        "cat(\"\\nMEDIATION + GENDER control fit:\\n\")\n",
        "print(fitMeasures(fit_med_control, c(\"cfi\",\"tli\",\"rmsea\",\"srmr\")))"
      ],
      "metadata": {
        "colab": {
          "base_uri": "https://localhost:8080/"
        },
        "id": "RlVSSHV3QW9u",
        "outputId": "9b446312-31a0-493e-fdfb-d94e5d56f51a"
      },
      "execution_count": 27,
      "outputs": [
        {
          "output_type": "stream",
          "name": "stdout",
          "text": [
            "\n",
            "MEDIATION + GENDER control fit:\n",
            "  cfi   tli rmsea  srmr \n",
            "0.907 0.900 0.056 0.073 \n"
          ]
        }
      ]
    },
    {
      "cell_type": "code",
      "source": [
        "%%R\n",
        "med_control_params <- subset(parameterEstimates(fit_med_control, standardized = TRUE, ci = TRUE,\n",
        "                                                boot.ci.type = \"bca.simple\"),\n",
        "                             lhs %in% c(\"PU\",\"PE\",\"ind_PU\",\"tot\") & op %in% c(\"~\",\":=\"))[\n",
        "                               , c(\"lhs\",\"op\",\"rhs\",\"est\",\"se\",\"pvalue\",\"ci.lower\",\"ci.upper\",\"std.all\")]\n",
        "cat(\"\\nMediation + gender control (unstd + std):\\n\"); print(med_control_params)"
      ],
      "metadata": {
        "colab": {
          "base_uri": "https://localhost:8080/"
        },
        "id": "reogyqH_QcYe",
        "outputId": "c16b20da-339f-4cb0-f22f-5fb149d181ac"
      },
      "execution_count": 28,
      "outputs": [
        {
          "output_type": "stream",
          "name": "stdout",
          "text": [
            "\n",
            "Mediation + gender control (unstd + std):\n",
            "       lhs op           rhs   est    se pvalue ci.lower ci.upper std.all\n",
            "48      PU  ~          PACH 0.649 0.069  0.000    0.525    0.797   0.746\n",
            "49      PU  ~ gender_female 0.170 0.067  0.012    0.040    0.305   0.115\n",
            "50      PE  ~          PACH 0.242 0.061  0.000    0.146    0.387   0.504\n",
            "51      PE  ~            PU 0.304 0.073  0.000    0.180    0.471   0.552\n",
            "52      PE  ~ gender_female 0.009 0.029  0.767   -0.052    0.066   0.011\n",
            "106 ind_PU :=         a1*b1 0.197 0.046  0.000    0.121    0.306   0.412\n",
            "107    tot :=    c1+(a1*b1) 0.439 0.077  0.000    0.297    0.602   0.916\n"
          ]
        }
      ]
    },
    {
      "cell_type": "markdown",
      "source": [
        "# --- 7b) Moderation with gender control ----------------------------------\n",
        "# Use the FULL product indicator set (df_int)"
      ],
      "metadata": {
        "id": "zWfbSVJ4Qhl-"
      }
    },
    {
      "cell_type": "code",
      "source": [
        "%%R\n",
        "if (!\"gender\" %in% names(df_int)) stop(\"Missing 'gender' in the dataset.\")\n",
        "df_int$gender_female <- ifelse(df_int$gender == 2, 1,\n",
        "                           ifelse(df_int$gender == 1, 0, NA))\n",
        "\n",
        "# Emp grouping: 1–3 = not searching (0), 4–6 = searching (1)\n",
        "if (!\"Emp\" %in% names(df_int)) stop(\"Missing 'Emp' in the dataset.\")\n",
        "df_int$job_search <- ifelse(df_int$Emp %in% 1:3, 0,\n",
        "                        ifelse(df_int$Emp %in% 4:6, 1, NA))\n"
      ],
      "metadata": {
        "id": "4Ozq7_UzWeWF"
      },
      "execution_count": 37,
      "outputs": []
    },
    {
      "cell_type": "code",
      "source": [
        "%%R\n",
        "cat(\"\\nGender distribution  (Female/Male): \",\n",
        "    sum(df_int$gender_female==1, na.rm=TRUE), \"/\",\n",
        "    sum(df_int$gender_female==0, na.rm=TRUE), \"\\n\", sep = \"\")"
      ],
      "metadata": {
        "colab": {
          "base_uri": "https://localhost:8080/"
        },
        "id": "egECVZZTWswA",
        "outputId": "6adf7c26-0dc5-4ee1-8319-7e2d0139efad"
      },
      "execution_count": 38,
      "outputs": [
        {
          "output_type": "stream",
          "name": "stdout",
          "text": [
            "\n",
            "Gender distribution  (Female/Male): 199/142\n"
          ]
        }
      ]
    },
    {
      "cell_type": "code",
      "source": [
        "%%R\n",
        "cat(\"Job search (Not searching/Searching): \",\n",
        "    sum(df_int$job_search==0, na.rm=TRUE), \"/\",\n",
        "    sum(df_int$job_search==1, na.rm=TRUE), \"\\n\", sep = \"\")"
      ],
      "metadata": {
        "colab": {
          "base_uri": "https://localhost:8080/"
        },
        "id": "Ie86QeMZW3eP",
        "outputId": "0b3cfa4b-df58-4793-cc1d-d9a6c2e764d5"
      },
      "execution_count": 39,
      "outputs": [
        {
          "output_type": "stream",
          "name": "stdout",
          "text": [
            "Job search (Not searching/Searching): 165/176\n"
          ]
        }
      ]
    },
    {
      "cell_type": "code",
      "source": [
        "%%R\n",
        "set.seed(123)\n",
        "sem_model_mod_control <- paste0(meas_model_final, '\n",
        "\n",
        "INT =~ ', paste(prod_names_full, collapse = \" + \"), '\n",
        "\n",
        "PU  ~ a1*PACH + g1*gender_female\n",
        "PE  ~ c1*PACH + b1*PU + m1*INT + g2*gender_female\n",
        "\n",
        "ind_PU := a1*b1\n",
        "')\n"
      ],
      "metadata": {
        "id": "Ln_4e5G0QlYi"
      },
      "execution_count": 40,
      "outputs": []
    },
    {
      "cell_type": "code",
      "source": [
        "%%R\n",
        "fit_mod_control <- sem(sem_model_mod_control, data = df_int,\n",
        "                       estimator = \"ML\", se = \"bootstrap\", bootstrap = 5000)"
      ],
      "metadata": {
        "id": "FeJsQCUwW975"
      },
      "execution_count": null,
      "outputs": []
    },
    {
      "cell_type": "code",
      "source": [
        "%%R\n",
        "cat(\"\\nMODERATION + GENDER control fit:\\n\")\n",
        "print(fitMeasures(fit_mod_control, c(\"cfi\",\"tli\",\"rmsea\",\"srmr\")))"
      ],
      "metadata": {
        "id": "WR0WZOzBQtqM"
      },
      "execution_count": null,
      "outputs": []
    },
    {
      "cell_type": "code",
      "source": [
        "%%R\n",
        "mod_control_params <- subset(parameterEstimates(fit_mod_control, standardized = TRUE, ci = TRUE,\n",
        "                                                boot.ci.type = \"bca.simple\"),\n",
        "                             lhs == \"PE\" & op == \"~\" &\n",
        "                               rhs %in% c(\"PACH\",\"PU\",\"INT\",\"gender_female\"))[\n",
        "                                 , c(\"lhs\",\"op\",\"rhs\",\"est\",\"se\",\"pvalue\",\"ci.lower\",\"ci.upper\",\"std.all\")]\n",
        "cat(\"\\nPE equation (moderation + gender control):\\n\"); print(mod_control_params)"
      ],
      "metadata": {
        "id": "OmJwrNzsQyHV"
      },
      "execution_count": null,
      "outputs": []
    },
    {
      "cell_type": "markdown",
      "source": [
        "# --- 7c) Multi-group by job_search (UNLABELED = configural) --------------\n",
        "## --- CONFIGURAL MULTI-GROUP (paths free across groups) --------------------"
      ],
      "metadata": {
        "id": "fpzoqJfBQ1pv"
      }
    },
    {
      "cell_type": "code",
      "source": [
        "%%R\n",
        "if (!\"gender_female\" %in% names(df)) {\n",
        "  if (!\"gender\" %in% names(df)) stop(\"Missing 'gender' in the dataset.\")\n",
        "  df$gender_female <- ifelse(df$gender == 2, 1,\n",
        "                             ifelse(df$gender == 1, 0, NA))\n",
        "}\n",
        "if (!\"job_search\" %in% names(df)) {\n",
        "  if (!\"Emp\" %in% names(df)) stop(\"Missing 'Emp' in the dataset.\")\n",
        "  # 1–3 = not searching (0), 4–6 = searching (1)\n",
        "  df$job_search <- ifelse(df$Emp %in% 1:3, 0,\n",
        "                          ifelse(df$Emp %in% 4:6, 1, NA))\n",
        "}"
      ],
      "metadata": {
        "id": "mxHM36yvQ6rd"
      },
      "execution_count": null,
      "outputs": []
    },
    {
      "cell_type": "code",
      "source": [
        "%%R\n",
        "set.seed(123)\n",
        "\n",
        "# Structural model with NO labels (so parameters are free and can differ by group)\n",
        "mg_model <- paste0(meas_model_final, '\n",
        "  # Structural (configural – paths free)\n",
        "  PU ~ PACH + gender_female\n",
        "  PE ~ PACH + PU + gender_female\n",
        "')\n",
        "\n",
        "fit_cfg <- sem(mg_model, data = df, group = \"job_search\",\n",
        "               estimator = \"ML\", se = \"bootstrap\", bootstrap = 5000)"
      ],
      "metadata": {
        "id": "qe88A6zBRDcF"
      },
      "execution_count": null,
      "outputs": []
    },
    {
      "cell_type": "code",
      "source": [
        "%%R\n",
        "cat(\"\\nMULTI-GROUP (configural; paths free) fit:\\n\")\n",
        "print(fitMeasures(fit_cfg, c(\"cfi\",\"tli\",\"rmsea\",\"srmr\")))"
      ],
      "metadata": {
        "id": "gXjCP1bURGYK"
      },
      "execution_count": null,
      "outputs": []
    },
    {
      "cell_type": "markdown",
      "source": [
        "# Group-specific paths with bootstrap CIs and standardized estimates\n"
      ],
      "metadata": {
        "id": "sCm8ak0xRK6r"
      }
    },
    {
      "cell_type": "code",
      "source": [
        "%%R\n",
        "paths_tbl <- parameterEstimates(fit_cfg, standardized = TRUE, ci = TRUE,\n",
        "                                boot.ci.type = \"bca.simple\") %>%\n",
        "  filter(op == \"~\",\n",
        "         lhs %in% c(\"PU\",\"PE\"),\n",
        "         rhs %in% c(\"PACH\",\"PU\",\"gender_female\")) %>%\n",
        "  select(group, lhs, op, rhs, est, se, pvalue, ci.lower, ci.upper, std.all)\n",
        "\n",
        "cat(\"\\nGroup-specific structural paths (unstd & std):\\n\"); print(paths_tbl)"
      ],
      "metadata": {
        "id": "u-PwIrFvRLkW"
      },
      "execution_count": null,
      "outputs": []
    },
    {
      "cell_type": "markdown",
      "source": [
        "# ---- Compute indirect (a*b) and total (c' + a*b) per group after fitting ----\n"
      ],
      "metadata": {
        "id": "6Swcay2pRQPM"
      }
    },
    {
      "cell_type": "code",
      "source": [
        "%%R\n",
        "get_indirects <- function(fit, standardized = FALSE) {\n",
        "  pe <- parameterEstimates(fit, standardized = standardized)\n",
        "  ng <- lavInspect(fit, \"ngroups\")\n",
        "  out <- lapply(seq_len(ng), function(g) {\n",
        "    a   <- pe$est[pe$group==g & pe$lhs==\"PU\" & pe$op==\"~\" & pe$rhs==\"PACH\"]   # PU ~ PACH\n",
        "    b   <- pe$est[pe$group==g & pe$lhs==\"PE\" & pe$op==\"~\" & pe$rhs==\"PU\"]     # PE ~ PU\n",
        "    cdp <- pe$est[pe$group==g & pe$lhs==\"PE\" & pe$op==\"~\" & pe$rhs==\"PACH\"]   # direct c'\n",
        "    data.frame(group = g-1, ind_PU = a*b, total = cdp + a*b)\n",
        "  })\n",
        "  bind_rows(out)\n",
        "}\n",
        "\n",
        "ind_unstd <- get_indirects(fit_cfg, standardized = FALSE)\n",
        "ind_std   <- get_indirects(fit_cfg, standardized = TRUE)"
      ],
      "metadata": {
        "id": "h-QeeeZaRTc9"
      },
      "execution_count": null,
      "outputs": []
    },
    {
      "cell_type": "code",
      "source": [
        "%%R\n",
        "cat(\"\\nIndirects per group (unstd):\\n\"); print(ind_unstd)"
      ],
      "metadata": {
        "id": "Db1YSMtoRZdy"
      },
      "execution_count": null,
      "outputs": []
    },
    {
      "cell_type": "code",
      "source": [
        "%%R\n",
        "cat(\"\\nIndirects per group (std):\\n\");   print(ind_std)"
      ],
      "metadata": {
        "id": "tQOmtbH0RcsM"
      },
      "execution_count": null,
      "outputs": []
    },
    {
      "cell_type": "markdown",
      "source": [
        "# ---- Optional: test equality of regressions across groups (LRT) -----------\n"
      ],
      "metadata": {
        "id": "RiodqVXKRiWH"
      }
    },
    {
      "cell_type": "code",
      "source": [
        "%%R\n",
        "fit_equal_reg <- sem(mg_model, data = df, group = \"job_search\",\n",
        "                     group.equal = \"regressions\",\n",
        "                     estimator = \"ML\", se = \"bootstrap\", bootstrap = 2000)\n",
        "\n",
        "cat(\"\\nLRT: free vs. equal regressions across groups:\\n\")"
      ],
      "metadata": {
        "id": "70r8sSfWRjAm"
      },
      "execution_count": null,
      "outputs": []
    },
    {
      "cell_type": "code",
      "source": [
        "%%R\n",
        "print(anova(fit_cfg, fit_equal_reg))"
      ],
      "metadata": {
        "id": "PYwnf2QVRmwN"
      },
      "execution_count": null,
      "outputs": []
    },
    {
      "cell_type": "markdown",
      "source": [
        "# Get descriptive statistics\n"
      ],
      "metadata": {
        "id": "hNCYLGpCRsI_"
      }
    },
    {
      "cell_type": "code",
      "source": [
        "%%R\n",
        "key_vars <- c(\"PACH_mean\", \"FAIR_mean\", \"TRANSP_mean\", \"TRUST_mean\",\n",
        "              \"PU_mean\", \"WE_QUAL_mean\", \"WE_UTIL_mean\")"
      ],
      "metadata": {
        "id": "bPDu2Yd-RwPe"
      },
      "execution_count": null,
      "outputs": []
    },
    {
      "cell_type": "code",
      "source": [
        "%%R\n",
        "# Create means for each construct (if not already done)\n",
        "df$PACH_mean <- rowMeans(df[c(\"A1\", \"A2\", \"A3\", \"A5\")])\n",
        "df$FAIR_mean <- rowMeans(df[c(\"F1\", \"F2\", \"F3\", \"F4\", \"F8\")])\n",
        "df$TRANSP_mean <- rowMeans(df[paste0(\"TP\", 1:8)])\n",
        "df$TRUST_mean <- rowMeans(df[paste0(\"TR\", 1:3)])\n",
        "df$PU_mean <- rowMeans(df[paste0(\"U\", 1:6)])\n",
        "df$WE_QUAL_mean <- rowMeans(df[paste0(\"Q\", 1:5)])\n",
        "df$WE_UTIL_mean <- rowMeans(df[paste0(\"P\", 1:4)])\n",
        "\n",
        "# Get descriptive statistics and correlation matrix\n",
        "desc_stats <- describe(df[key_vars])\n",
        "cor_matrix <- cor(df[key_vars], use = \"complete.obs\")"
      ],
      "metadata": {
        "id": "PClW7BoNR1VB"
      },
      "execution_count": null,
      "outputs": []
    },
    {
      "cell_type": "code",
      "source": [
        "%%R\n",
        "print(desc_stats)"
      ],
      "metadata": {
        "id": "G9IOApKrR6i_"
      },
      "execution_count": null,
      "outputs": []
    },
    {
      "cell_type": "code",
      "source": [
        "%%R\n",
        "print(round(cor_matrix, 2))"
      ],
      "metadata": {
        "id": "h4jcmEAGR91B"
      },
      "execution_count": null,
      "outputs": []
    },
    {
      "cell_type": "code",
      "source": [],
      "metadata": {
        "id": "iZowICJUSATX"
      },
      "execution_count": null,
      "outputs": []
    }
  ]
}